{
 "cells": [
  {
   "cell_type": "markdown",
   "metadata": {},
   "source": [
    "You may inspect this notebook on my [jovian profile](https://jovian.ai/sokoly35/module1-pytorch-basics)!"
   ]
  },
  {
   "cell_type": "code",
   "execution_count": null,
   "metadata": {},
   "outputs": [],
   "source": [
    "!pip install torch"
   ]
  },
  {
   "cell_type": "code",
   "execution_count": 2,
   "metadata": {},
   "outputs": [
    {
     "name": "stdout",
     "output_type": "stream",
     "text": [
      "Requirement already satisfied: numpy in /opt/conda/lib/python3.9/site-packages (1.20.3)\r\n"
     ]
    }
   ],
   "source": [
    "!pip install numpy"
   ]
  },
  {
   "cell_type": "code",
   "execution_count": 3,
   "metadata": {},
   "outputs": [],
   "source": [
    "import torch\n",
    "import numpy as np"
   ]
  },
  {
   "cell_type": "markdown",
   "metadata": {},
   "source": [
    "# Exercise 1"
   ]
  },
  {
   "cell_type": "markdown",
   "metadata": {},
   "source": [
    "## a)"
   ]
  },
  {
   "cell_type": "code",
   "execution_count": 15,
   "metadata": {},
   "outputs": [],
   "source": [
    "# Defining 1D tensor\n",
    "tensor1d = torch.tensor([1, 2, 3, 4])\n",
    "# If we want it to have float dtype, we must to add dot to at least one number\n",
    "tensor1d_float = torch.tensor([1., 2, 3, 4])\n",
    "\n",
    "# Defining 2D tensor\n",
    "tensor2d = torch.tensor([[1, 2, 3, 4], [5, 6, 7, 8]])\n",
    "# If we want it to have float dtype, we must to add dot to at least one number\n",
    "tensor2d_float = torch.tensor([[1., 2, 3, 4], [5, 6, 7, 8]])\n",
    "\n",
    "# Defining 3D tensor\n",
    "tensor3d = torch.tensor([[[1., 2, 3, 4], [5, 6, 7, 8]],\n",
    "                         [[9, 10, 11, 12], [13, 14, 15, 16]]])\n",
    "# If we want it to have float dtype, we must to add dot to at least one number\n",
    "tensor3d_float = torch.tensor([[[1., 2, 3, 4], [5, 6, 7, 8]],\n",
    "                         [[9, 10, 11, 12], [13, 14, 15, 16]]])"
   ]
  },
  {
   "cell_type": "code",
   "execution_count": 16,
   "metadata": {},
   "outputs": [
    {
     "name": "stdout",
     "output_type": "stream",
     "text": [
      "Data type of 1D tensor torch.int64, Shape torch.Size([4])\n",
      "Data type of 1D float tensor torch.float32, Shape torch.Size([4])\n",
      "\n",
      "Data type of 2D tensor torch.int64, Shape torch.Size([2, 4])\n",
      "Data type of 2D float tensor torch.float32, Shape torch.Size([2, 4])\n",
      "\n",
      "Data type of 3D tensor torch.float32, Shape torch.Size([2, 2, 4])\n",
      "Data type of 3D float tensor torch.float32, Shape torch.Size([2, 2, 4])\n"
     ]
    }
   ],
   "source": [
    "print(f\"Data type of 1D tensor {tensor1d.dtype}, Shape {tensor1d.shape}\")\n",
    "print(f\"Data type of 1D float tensor {tensor1d_float.dtype}, Shape {tensor1d_float.shape}\")\n",
    "print()\n",
    "print(f\"Data type of 2D tensor {tensor2d.dtype}, Shape {tensor2d.shape}\")\n",
    "print(f\"Data type of 2D float tensor {tensor2d_float.dtype}, Shape {tensor2d_float.shape}\")\n",
    "print()\n",
    "print(f\"Data type of 3D tensor {tensor3d.dtype}, Shape {tensor3d.shape}\")\n",
    "print(f\"Data type of 3D float tensor {tensor3d_float.dtype}, Shape {tensor3d_float.shape}\")"
   ]
  },
  {
   "cell_type": "markdown",
   "metadata": {},
   "source": [
    "## b)"
   ]
  },
  {
   "cell_type": "code",
   "execution_count": 19,
   "metadata": {},
   "outputs": [],
   "source": [
    "## Defining numpy arrays\n",
    "# If we want dtype to be float we need to pass float in arrange\n",
    "numpy1d = np.arange(4.)\n",
    "# Reshaping to 2D and 3D tensors\n",
    "numpy2d = np.arange(8).reshape(2, 4)\n",
    "numpy3d = np.arange(16).reshape(2, 2, 4)\n",
    "\n",
    "# Converting numpy arrays to torch tensors\n",
    "torch1d = torch.from_numpy(numpy1d)\n",
    "torch2d = torch.from_numpy(numpy2d)\n",
    "torch3d = torch.from_numpy(numpy3d)"
   ]
  },
  {
   "cell_type": "code",
   "execution_count": 20,
   "metadata": {},
   "outputs": [
    {
     "name": "stdout",
     "output_type": "stream",
     "text": [
      "Data type of 1D tensor torch.float64, Shape torch.Size([4])\n",
      "\n",
      "Data type of 2D tensor torch.int64, Shape torch.Size([2, 4])\n",
      "\n",
      "Data type of 3D tensor torch.int64, Shape torch.Size([2, 2, 4])\n"
     ]
    }
   ],
   "source": [
    "print(f\"Data type of 1D tensor {torch1d.dtype}, Shape {torch1d.shape}\")\n",
    "print()\n",
    "print(f\"Data type of 2D tensor {torch2d.dtype}, Shape {torch2d.shape}\")\n",
    "print()\n",
    "print(f\"Data type of 3D tensor {torch3d.dtype}, Shape {torch3d.shape}\")"
   ]
  },
  {
   "cell_type": "markdown",
   "metadata": {},
   "source": [
    "# Exercise 2"
   ]
  },
  {
   "cell_type": "code",
   "execution_count": 51,
   "metadata": {},
   "outputs": [
    {
     "name": "stdout",
     "output_type": "stream",
     "text": [
      "Data type of 3D tensor torch.float32, Shape torch.Size([4, 3, 3])\n"
     ]
    }
   ],
   "source": [
    "# Defining 1D tensor (3, )\n",
    "tensor1d = torch.tensor([3., 4, 5])\n",
    "\n",
    "# Defining 2D tensor of shape (3, 4)\n",
    "tensor2d = torch.tensor([[1., 2, 3, 4],\n",
    "                         [5, 6, 7, 8],\n",
    "                         [9, 10, 11, 12]])\n",
    "\n",
    "# We use numpy to create 3D tensor of shape (4, 3, 3)\n",
    "numpy3d = np.arange(1., 37).reshape(4, 3, 3)\n",
    "# We may also pass it to torch.tensor function instead from_numpy\n",
    "# but we need to specify dtype to float32 because by default it is float64\n",
    "# If so, then our multiplication will fail\n",
    "tensor3d = torch.tensor(numpy3d, dtype=torch.float32)\n",
    "# The result will be float tensor\n",
    "print(f\"Data type of 3D tensor {tensor3d.dtype}, Shape {tensor3d.shape}\")"
   ]
  },
  {
   "cell_type": "code",
   "execution_count": 52,
   "metadata": {},
   "outputs": [
    {
     "name": "stdout",
     "output_type": "stream",
     "text": [
      "tensor([ 68.,  80.,  92., 104.]) torch.Size([4])\n"
     ]
    }
   ],
   "source": [
    "# mult1 = tensor1d  @ tensor2d\n",
    "print(mult1, mult1.shape)"
   ]
  },
  {
   "cell_type": "code",
   "execution_count": 53,
   "metadata": {},
   "outputs": [
    {
     "name": "stdout",
     "output_type": "stream",
     "text": [
      "tensor([[[ 84.,  99., 114.],\n",
      "         [ 96., 114., 132.],\n",
      "         [108., 129., 150.],\n",
      "         [120., 144., 168.]],\n",
      "\n",
      "        [[219., 234., 249.],\n",
      "         [258., 276., 294.],\n",
      "         [297., 318., 339.],\n",
      "         [336., 360., 384.]],\n",
      "\n",
      "        [[354., 369., 384.],\n",
      "         [420., 438., 456.],\n",
      "         [486., 507., 528.],\n",
      "         [552., 576., 600.]],\n",
      "\n",
      "        [[489., 504., 519.],\n",
      "         [582., 600., 618.],\n",
      "         [675., 696., 717.],\n",
      "         [768., 792., 816.]]]) torch.Size([4, 4, 3])\n"
     ]
    }
   ],
   "source": [
    "mult2 = tensor2d.T @ tensor3d\n",
    "print(mult2, mult2.shape)"
   ]
  },
  {
   "cell_type": "code",
   "execution_count": 58,
   "metadata": {},
   "outputs": [
    {
     "name": "stdout",
     "output_type": "stream",
     "text": [
      "tensor([[[ 38.,  44.,  50.,  56.],\n",
      "         [ 83.,  98., 113., 128.],\n",
      "         [128., 152., 176., 200.]],\n",
      "\n",
      "        [[173., 206., 239., 272.],\n",
      "         [218., 260., 302., 344.],\n",
      "         [263., 314., 365., 416.]],\n",
      "\n",
      "        [[308., 368., 428., 488.],\n",
      "         [353., 422., 491., 560.],\n",
      "         [398., 476., 554., 632.]],\n",
      "\n",
      "        [[443., 530., 617., 704.],\n",
      "         [488., 584., 680., 776.],\n",
      "         [533., 638., 743., 848.]]]) torch.Size([4, 3, 4])\n"
     ]
    }
   ],
   "source": [
    "mult3 = tensor3d @ tensor2d\n",
    "print(mult3, mult3.shape)"
   ]
  },
  {
   "cell_type": "code",
   "execution_count": 59,
   "metadata": {},
   "outputs": [
    {
     "name": "stdout",
     "output_type": "stream",
     "text": [
      "tensor([[1086., 1284., 1482., 1680.],\n",
      "        [2706., 3228., 3750., 4272.],\n",
      "        [4326., 5172., 6018., 6864.],\n",
      "        [5946., 7116., 8286., 9456.]]) torch.Size([4, 4])\n"
     ]
    }
   ],
   "source": [
    "mult4 = tensor1d @ tensor3d @ tensor2d\n",
    "print(mult4, mult4.shape)"
   ]
  },
  {
   "cell_type": "markdown",
   "metadata": {},
   "source": [
    "# Exercise 3"
   ]
  },
  {
   "cell_type": "code",
   "execution_count": 64,
   "metadata": {},
   "outputs": [
    {
     "name": "stdout",
     "output_type": "stream",
     "text": [
      "torch.Size([4]) torch.Size([2, 4]) torch.Size([2, 2, 4])\n"
     ]
    }
   ],
   "source": [
    "# Defining 1D pytorch tensor\n",
    "tensor1d = torch.arange(4.)\n",
    "# Defining 2D and 3D pytorch tensors. Using arange obligatory us to reshape tensor\n",
    "tensor2d = torch.arange(8.).reshape(2, 4)\n",
    "tensor3d = torch.arange(16).reshape(2, 2, 4)\n",
    "# Inspecting shapes of tensors\n",
    "print(tensor1d.shape, tensor2d.shape, tensor3d.shape)"
   ]
  },
  {
   "cell_type": "code",
   "execution_count": 68,
   "metadata": {},
   "outputs": [
    {
     "name": "stdout",
     "output_type": "stream",
     "text": [
      "1D array dtype: <class 'numpy.ndarray'>, Its shape (4,)\n",
      "1D array dtype: <class 'numpy.ndarray'>, Its shape (2, 4)\n",
      "1D array dtype: <class 'numpy.ndarray'>, Its shape (2, 2, 4)\n"
     ]
    }
   ],
   "source": [
    "numpy1d = tensor1d.numpy()\n",
    "numpy2d = tensor2d.numpy()\n",
    "numpy3d = tensor3d.numpy()\n",
    "print(f'1D array dtype: {type(numpy1d)}, Its shape {numpy1d.shape}')\n",
    "print(f'1D array dtype: {type(numpy2d)}, Its shape {numpy2d.shape}')\n",
    "print(f'1D array dtype: {type(numpy3d)}, Its shape {numpy3d.shape}')"
   ]
  },
  {
   "cell_type": "markdown",
   "metadata": {},
   "source": [
    "# Exercise 4"
   ]
  },
  {
   "cell_type": "code",
   "execution_count": 77,
   "metadata": {},
   "outputs": [
    {
     "data": {
      "text/plain": [
       "<torch._C.Generator at 0x7fe94c52dbf0>"
      ]
     },
     "execution_count": 77,
     "metadata": {},
     "output_type": "execute_result"
    }
   ],
   "source": [
    "# Setting random seed for reproducibility\n",
    "torch.manual_seed(7)"
   ]
  },
  {
   "cell_type": "code",
   "execution_count": 78,
   "metadata": {},
   "outputs": [
    {
     "name": "stdout",
     "output_type": "stream",
     "text": [
      "tensor([[[-0.1468,  0.7861]],\n",
      "\n",
      "        [[ 0.9468, -1.1143]],\n",
      "\n",
      "        [[ 1.6908, -0.8948]]])\n"
     ]
    },
    {
     "data": {
      "text/plain": [
       "torch.Size([3, 1, 2])"
      ]
     },
     "execution_count": 78,
     "metadata": {},
     "output_type": "execute_result"
    }
   ],
   "source": [
    "# Generating random tensor from standard normal distribution \n",
    "normal_random_tensor = torch.randn(3, 1, 2)\n",
    "print(normal_random_tensor)\n",
    "normal_random_tensor.shape"
   ]
  },
  {
   "cell_type": "code",
   "execution_count": 79,
   "metadata": {},
   "outputs": [
    {
     "name": "stdout",
     "output_type": "stream",
     "text": [
      "tensor([[[0.2868, 0.2063]],\n",
      "\n",
      "        [[0.4451, 0.3593]],\n",
      "\n",
      "        [[0.7204, 0.0731]]])\n"
     ]
    },
    {
     "data": {
      "text/plain": [
       "torch.Size([3, 1, 2])"
      ]
     },
     "execution_count": 79,
     "metadata": {},
     "output_type": "execute_result"
    }
   ],
   "source": [
    "# Generating random tensor from uniform distribution\n",
    "uniform_random_tensor = torch.rand(3, 1, 2)\n",
    "print(uniform_random_tensor)\n",
    "uniform_random_tensor.shape"
   ]
  },
  {
   "cell_type": "markdown",
   "metadata": {},
   "source": [
    "# Exercise 5"
   ]
  },
  {
   "cell_type": "code",
   "execution_count": 84,
   "metadata": {},
   "outputs": [
    {
     "name": "stdout",
     "output_type": "stream",
     "text": [
      "Concatenating along 0 dim, shape: torch.Size([9, 4])\n",
      "Concatenating along 1 dim, shape: torch.Size([3, 12])\n"
     ]
    }
   ],
   "source": [
    "# Generating 3 random tensors\n",
    "tensor1 = torch.randn(3, 4)\n",
    "tensor2 = torch.randn(3, 4)\n",
    "tensor3 = torch.randn(3, 4)\n",
    "\n",
    "# Appending tensors on each other\n",
    "cat1 = torch.cat([tensor1, tensor2, tensor3])\n",
    "print(f'Concatenating along 0 dim, shape: {cat1.shape}')\n",
    "# Horizontally stacking matrices\n",
    "cat2 = torch.cat([tensor1, tensor2, tensor3], 1)\n",
    "print(f'Concatenating along 1 dim, shape: {cat2.shape}')"
   ]
  },
  {
   "cell_type": "markdown",
   "metadata": {},
   "source": [
    "# Exercise 6"
   ]
  },
  {
   "cell_type": "code",
   "execution_count": 86,
   "metadata": {},
   "outputs": [
    {
     "data": {
      "text/plain": [
       "tensor([[ 0,  1,  2,  3,  4],\n",
       "        [ 5,  6,  7,  8,  9],\n",
       "        [10, 11, 12, 13, 14],\n",
       "        [15, 16, 17, 18, 19]])"
      ]
     },
     "execution_count": 86,
     "metadata": {},
     "output_type": "execute_result"
    }
   ],
   "source": [
    "# Defining tensor (4, 5)\n",
    "tensor = torch.arange(20).reshape(4, 5)\n",
    "tensor"
   ]
  },
  {
   "cell_type": "code",
   "execution_count": 91,
   "metadata": {},
   "outputs": [
    {
     "data": {
      "text/plain": [
       "tensor([10, 11, 12, 13, 14])"
      ]
     },
     "execution_count": 91,
     "metadata": {},
     "output_type": "execute_result"
    }
   ],
   "source": [
    "# Selecting 3rd row\n",
    "tensor[2, :]"
   ]
  },
  {
   "cell_type": "code",
   "execution_count": 93,
   "metadata": {},
   "outputs": [
    {
     "data": {
      "text/plain": [
       "tensor([ 4,  9, 14, 19])"
      ]
     },
     "execution_count": 93,
     "metadata": {},
     "output_type": "execute_result"
    }
   ],
   "source": [
    "# Selecting 5th column\n",
    "tensor[:, 4]"
   ]
  },
  {
   "cell_type": "code",
   "execution_count": 94,
   "metadata": {},
   "outputs": [
    {
     "data": {
      "text/plain": [
       "tensor([ 4,  9, 14, 19])"
      ]
     },
     "execution_count": 94,
     "metadata": {},
     "output_type": "execute_result"
    }
   ],
   "source": [
    "# It is also the last column\n",
    "tensor[:, -1]"
   ]
  },
  {
   "cell_type": "code",
   "execution_count": 95,
   "metadata": {},
   "outputs": [
    {
     "data": {
      "text/plain": [
       "tensor(7)"
      ]
     },
     "execution_count": 95,
     "metadata": {},
     "output_type": "execute_result"
    }
   ],
   "source": [
    "# Selecting value from 2nd row and 3rd column\n",
    "tensor[1, 2]"
   ]
  },
  {
   "cell_type": "code",
   "execution_count": 99,
   "metadata": {},
   "outputs": [
    {
     "data": {
      "text/plain": [
       "tensor([2, 3, 4])"
      ]
     },
     "execution_count": 99,
     "metadata": {},
     "output_type": "execute_result"
    }
   ],
   "source": [
    "# Selecting values from 1st row and 3rd to 5th columns\n",
    "tensor[0, 2:5]"
   ]
  },
  {
   "cell_type": "markdown",
   "metadata": {},
   "source": [
    "# Exercise 7"
   ]
  },
  {
   "cell_type": "code",
   "execution_count": 114,
   "metadata": {},
   "outputs": [
    {
     "data": {
      "text/plain": [
       "tensor([[-3., -2., -1.],\n",
       "        [ 0.,  1.,  2.],\n",
       "        [ 3.,  4.,  5.]])"
      ]
     },
     "execution_count": 114,
     "metadata": {},
     "output_type": "execute_result"
    }
   ],
   "source": [
    "# Defining sample tensor (3, 3)\n",
    "tensor = torch.arange(-3., 6).reshape(3, 3)\n",
    "tensor"
   ]
  },
  {
   "cell_type": "code",
   "execution_count": 104,
   "metadata": {},
   "outputs": [
    {
     "data": {
      "text/plain": [
       "9"
      ]
     },
     "execution_count": 104,
     "metadata": {},
     "output_type": "execute_result"
    }
   ],
   "source": [
    "# Number of elements\n",
    "tensor.numel()"
   ]
  },
  {
   "cell_type": "code",
   "execution_count": 106,
   "metadata": {},
   "outputs": [
    {
     "data": {
      "text/plain": [
       "tensor([[0., 0.],\n",
       "        [0., 0.]])"
      ]
     },
     "execution_count": 106,
     "metadata": {},
     "output_type": "execute_result"
    }
   ],
   "source": [
    "# Creating zero tensor of shape (2, 2)\n",
    "torch.zeros(2, 2)"
   ]
  },
  {
   "cell_type": "code",
   "execution_count": 108,
   "metadata": {},
   "outputs": [
    {
     "data": {
      "text/plain": [
       "tensor([[1., 1.],\n",
       "        [1., 1.]])"
      ]
     },
     "execution_count": 108,
     "metadata": {},
     "output_type": "execute_result"
    }
   ],
   "source": [
    "# Creating ones tensor of shape (2, 2)\n",
    "torch.ones(2, 2)"
   ]
  },
  {
   "cell_type": "code",
   "execution_count": 110,
   "metadata": {},
   "outputs": [
    {
     "data": {
      "text/plain": [
       "tensor([0.0000, 0.2500, 0.5000, 0.7500, 1.0000])"
      ]
     },
     "execution_count": 110,
     "metadata": {},
     "output_type": "execute_result"
    }
   ],
   "source": [
    "# Create tensor of n equally distributed points\n",
    "torch.linspace(0, 1, 5)"
   ]
  },
  {
   "cell_type": "code",
   "execution_count": 111,
   "metadata": {},
   "outputs": [
    {
     "data": {
      "text/plain": [
       "tensor([[0.0000e+00, 0.0000e+00, 0.0000e+00, 0.0000e+00],\n",
       "        [3.9494e+20, 3.0969e-41, 0.0000e+00, 0.0000e+00],\n",
       "        [1.4013e-45, 0.0000e+00, 5.6052e-45, 0.0000e+00],\n",
       "        [0.0000e+00, 0.0000e+00, 0.0000e+00, 0.0000e+00]])"
      ]
     },
     "execution_count": 111,
     "metadata": {},
     "output_type": "execute_result"
    }
   ],
   "source": [
    "# Creates filled with uninitialized values\n",
    "torch.empty(4, 4)"
   ]
  },
  {
   "cell_type": "code",
   "execution_count": 112,
   "metadata": {},
   "outputs": [
    {
     "data": {
      "text/plain": [
       "tensor([[4, 4, 4],\n",
       "        [4, 4, 4],\n",
       "        [4, 4, 4]])"
      ]
     },
     "execution_count": 112,
     "metadata": {},
     "output_type": "execute_result"
    }
   ],
   "source": [
    "# Creates tensor of given shape filled with given value\n",
    "torch.full((3, 3), 4)"
   ]
  },
  {
   "cell_type": "code",
   "execution_count": 121,
   "metadata": {},
   "outputs": [
    {
     "data": {
      "text/plain": [
       "tensor([[-3., -2., -1.,  0.,  1.,  2.,  3.,  4.,  5.]])"
      ]
     },
     "execution_count": 121,
     "metadata": {},
     "output_type": "execute_result"
    }
   ],
   "source": [
    "# Function returns new tensor of specified shape\n",
    "tensor.view(1, -1)"
   ]
  },
  {
   "cell_type": "code",
   "execution_count": 123,
   "metadata": {},
   "outputs": [
    {
     "data": {
      "text/plain": [
       "tensor([[0., 0., 0.],\n",
       "        [3., 1., 1.],\n",
       "        [1., 1., 1.]])"
      ]
     },
     "execution_count": 123,
     "metadata": {},
     "output_type": "execute_result"
    }
   ],
   "source": [
    "# Function returns heaviside function applied to a tensor\n",
    "# It is important that boundary have to have the same dtype as tensor\n",
    "# Be aweare that function behave unexpectedly around boundary\n",
    "torch.heaviside(tensor, torch.tensor(3.))"
   ]
  },
  {
   "cell_type": "code",
   "execution_count": 133,
   "metadata": {},
   "outputs": [
    {
     "name": "stdout",
     "output_type": "stream",
     "text": [
      "torch.Size([1, 3, 3])\n"
     ]
    },
    {
     "data": {
      "text/plain": [
       "torch.Size([3, 3])"
      ]
     },
     "execution_count": 133,
     "metadata": {},
     "output_type": "execute_result"
    }
   ],
   "source": [
    "temp = tensor.reshape(1, 3, 3)\n",
    "print(temp.shape)\n",
    "# Squeeze removes all dimensions which equals 1\n",
    "torch.squeeze(temp).shape"
   ]
  },
  {
   "cell_type": "code",
   "execution_count": 134,
   "metadata": {},
   "outputs": [
    {
     "data": {
      "text/plain": [
       "tensor([4, 0, 3, 1, 2])"
      ]
     },
     "execution_count": 134,
     "metadata": {},
     "output_type": "execute_result"
    }
   ],
   "source": [
    "# Function draws random permutation from 0 to n-1\n",
    "torch.randperm(5)"
   ]
  },
  {
   "cell_type": "code",
   "execution_count": 137,
   "metadata": {},
   "outputs": [],
   "source": [
    "# Index of max value in tensor\n",
    "index = torch.argmax(tensor)"
   ]
  },
  {
   "cell_type": "code",
   "execution_count": 140,
   "metadata": {},
   "outputs": [
    {
     "data": {
      "text/plain": [
       "8"
      ]
     },
     "execution_count": 140,
     "metadata": {},
     "output_type": "execute_result"
    }
   ],
   "source": [
    "# Accesing value of tensor\n",
    "index.item()"
   ]
  },
  {
   "cell_type": "code",
   "execution_count": 144,
   "metadata": {},
   "outputs": [
    {
     "data": {
      "text/plain": [
       "tensor([[-3., -2., -1.],\n",
       "        [-3., -1.,  1.],\n",
       "        [ 0.,  3.,  6.]])"
      ]
     },
     "execution_count": 144,
     "metadata": {},
     "output_type": "execute_result"
    }
   ],
   "source": [
    "# Tensor cumulative sum\n",
    "torch.cumsum(tensor, 0)"
   ]
  },
  {
   "cell_type": "code",
   "execution_count": 146,
   "metadata": {},
   "outputs": [
    {
     "data": {
      "text/plain": [
       "tensor([-3.,  1.,  5.])"
      ]
     },
     "execution_count": 146,
     "metadata": {},
     "output_type": "execute_result"
    }
   ],
   "source": [
    "# If dimension is >1 then return main diagonal\n",
    "torch.diag(tensor)"
   ]
  },
  {
   "cell_type": "code",
   "execution_count": 148,
   "metadata": {},
   "outputs": [
    {
     "data": {
      "text/plain": [
       "tensor([[-3.,  0.,  0.],\n",
       "        [ 0.,  1.,  0.],\n",
       "        [ 0.,  0.,  5.]])"
      ]
     },
     "execution_count": 148,
     "metadata": {},
     "output_type": "execute_result"
    }
   ],
   "source": [
    "# If tensor is 1D then it returns diagonal matrix\n",
    "torch.diag(torch.diag(tensor))"
   ]
  },
  {
   "cell_type": "code",
   "execution_count": 151,
   "metadata": {},
   "outputs": [
    {
     "data": {
      "text/plain": [
       "tensor([-3., -2., -1.,  0.,  1.,  2.,  3.,  4.,  5.])"
      ]
     },
     "execution_count": 151,
     "metadata": {},
     "output_type": "execute_result"
    }
   ],
   "source": [
    "# Flattening tensor\n",
    "tensor.flatten()"
   ]
  },
  {
   "cell_type": "markdown",
   "metadata": {},
   "source": [
    "# Exercise 8"
   ]
  },
  {
   "cell_type": "code",
   "execution_count": 170,
   "metadata": {},
   "outputs": [],
   "source": [
    "# Defining torch scalars, gradients work only on scalars\n",
    "x = torch.tensor(3.)\n",
    "# Defining scalars which enables autograd mechanism\n",
    "y = torch.tensor(4., requires_grad=True)\n",
    "w = torch.tensor(5., requires_grad=True)\n",
    "# Defining equation\n",
    "z = w * x + y\n",
    "# Calculating gradients\n",
    "z.backward()"
   ]
  },
  {
   "cell_type": "code",
   "execution_count": 171,
   "metadata": {},
   "outputs": [
    {
     "name": "stdout",
     "output_type": "stream",
     "text": [
      "dz/dx = None. Autograd is False\n",
      "dz/dy = 1.0. It is derrivative of constant, which equals 1\n",
      "dz/dw = 3.0, because it should be equal x\n"
     ]
    }
   ],
   "source": [
    "print(f\"dz/dx = {x.grad}. Autograd is False\")\n",
    "print(f\"dz/dy = {y.grad}. It is derrivative of constant, which equals 1\")\n",
    "print(f\"dz/dw = {w.grad}, because it should be equal x\")"
   ]
  },
  {
   "cell_type": "code",
   "execution_count": 173,
   "metadata": {},
   "outputs": [],
   "source": [
    "# Defining torch scalars, gradients work only on scalars\n",
    "x = torch.tensor(3.)\n",
    "# Defining scalars which enables autograd mechanism\n",
    "y = torch.tensor(4., requires_grad=True)\n",
    "w = torch.tensor(5., requires_grad=True)\n",
    "# Defining equation, this time we will raise x to power\n",
    "z = w * x ** 2 + y\n",
    "# Calculating gradients\n",
    "z.backward()"
   ]
  },
  {
   "cell_type": "code",
   "execution_count": 175,
   "metadata": {},
   "outputs": [
    {
     "name": "stdout",
     "output_type": "stream",
     "text": [
      "dz/dx = None. Autograd is False\n",
      "dz/dy = 1.0. It is derrivative of constant, which equals 1\n",
      "dz/dw = 9.0, because it should be equal x * x\n"
     ]
    }
   ],
   "source": [
    "print(f\"dz/dx = {x.grad}. Autograd is False\")\n",
    "print(f\"dz/dy = {y.grad}. It is derrivative of constant, which equals 1\")\n",
    "print(f\"dz/dw = {w.grad}, because it should be equal x * x\")"
   ]
  },
  {
   "cell_type": "code",
   "execution_count": 176,
   "metadata": {},
   "outputs": [],
   "source": [
    "# Defining torch scalars, gradients work only on scalars\n",
    "x = torch.tensor(3.)\n",
    "# Defining scalars which enables autograd mechanism\n",
    "y = torch.tensor(4., requires_grad=True)\n",
    "w = torch.tensor(5., requires_grad=True)\n",
    "# Defining equation, this time we will raise w to power\n",
    "z = w ** 2 * x + y\n",
    "# Calculating gradients\n",
    "z.backward()"
   ]
  },
  {
   "cell_type": "code",
   "execution_count": 180,
   "metadata": {},
   "outputs": [
    {
     "name": "stdout",
     "output_type": "stream",
     "text": [
      "dz/dx = None. Autograd is False\n",
      "dz/dy = 1.0. It is derrivative of constant, which equals 1\n",
      "dz/dw = 30.0, because it should be equal x * 2*w\n"
     ]
    }
   ],
   "source": [
    "print(f\"dz/dx = {x.grad}. Autograd is False\")\n",
    "print(f\"dz/dy = {y.grad}. It is derrivative of constant, which equals 1\")\n",
    "print(f\"dz/dw = {w.grad}, because it should be equal x * 2*w\")"
   ]
  },
  {
   "cell_type": "code",
   "execution_count": 181,
   "metadata": {},
   "outputs": [
    {
     "name": "stdout",
     "output_type": "stream",
     "text": [
      "dz/dx = None. Autograd is False\n",
      "dz/dy = 54.598148345947266. It equals exp(y)\n",
      "dz/dw = 30.0, because it should be equal x * 2*w\n"
     ]
    }
   ],
   "source": [
    "# Defining torch scalars, gradients work only on scalars\n",
    "x = torch.tensor(3.)\n",
    "# Defining scalars which enables autograd mechanism\n",
    "y = torch.tensor(4., requires_grad=True)\n",
    "w = torch.tensor(5., requires_grad=True)\n",
    "# Defining equation, this time we will calculates exponent from y\n",
    "z = w ** 2 * x + torch.exp(y)\n",
    "# Calculating gradients\n",
    "z.backward()\n",
    "\n",
    "print(f\"dz/dx = {x.grad}. Autograd is False\")\n",
    "print(f\"dz/dy = {y.grad}. It equals exp(y)\")\n",
    "print(f\"dz/dw = {w.grad}, because it should be equal x * 2*w\")"
   ]
  },
  {
   "cell_type": "markdown",
   "metadata": {},
   "source": [
    "# Commiting notebook to jovian"
   ]
  },
  {
   "cell_type": "code",
   "execution_count": 32,
   "metadata": {},
   "outputs": [],
   "source": [
    "!pip install jovian --quiet"
   ]
  },
  {
   "cell_type": "code",
   "execution_count": 34,
   "metadata": {},
   "outputs": [
    {
     "data": {
      "application/javascript": [
       "if (window.IPython && IPython.notebook.kernel) IPython.notebook.kernel.execute('jovian.utils.jupyter.get_notebook_name_saved = lambda: \"' + IPython.notebook.notebook_name + '\"')"
      ],
      "text/plain": [
       "<IPython.core.display.Javascript object>"
      ]
     },
     "metadata": {},
     "output_type": "display_data"
    }
   ],
   "source": [
    "import jovian"
   ]
  },
  {
   "cell_type": "code",
   "execution_count": 35,
   "metadata": {},
   "outputs": [
    {
     "data": {
      "application/javascript": [
       "window.require && require([\"base/js/namespace\"],function(Jupyter){Jupyter.notebook.save_checkpoint()})"
      ],
      "text/plain": [
       "<IPython.core.display.Javascript object>"
      ]
     },
     "metadata": {},
     "output_type": "display_data"
    },
    {
     "name": "stdout",
     "output_type": "stream",
     "text": [
      "[jovian] Please enter your API key ( from https://jovian.ai/ ):\n",
      "API KEY: ········\n",
      "[jovian] Updating notebook \"sokoly35/module1-pytorch-basics\" on https://jovian.ai/\n",
      "[jovian] Committed successfully! https://jovian.ai/sokoly35/module1-pytorch-basics\n"
     ]
    },
    {
     "data": {
      "text/plain": [
       "'https://jovian.ai/sokoly35/module1-pytorch-basics'"
      ]
     },
     "execution_count": 35,
     "metadata": {},
     "output_type": "execute_result"
    }
   ],
   "source": [
    "# Execute this to save new versions of the notebook\n",
    "jovian.commit('Solving exercise from 1. to 8.',\n",
    "              git_message=\"Completing module 1\",\n",
    "              project=\"module1-pytorch-basics\")"
   ]
  }
 ],
 "metadata": {
  "kernelspec": {
   "display_name": "Python 3",
   "language": "python",
   "name": "python3"
  },
  "language_info": {
   "codemirror_mode": {
    "name": "ipython",
    "version": 3
   },
   "file_extension": ".py",
   "mimetype": "text/x-python",
   "name": "python",
   "nbconvert_exporter": "python",
   "pygments_lexer": "ipython3",
   "version": "3.7.4"
  },
  "toc": {
   "base_numbering": 1,
   "nav_menu": {},
   "number_sections": true,
   "sideBar": true,
   "skip_h1_title": false,
   "title_cell": "Table of Contents",
   "title_sidebar": "Contents",
   "toc_cell": false,
   "toc_position": {},
   "toc_section_display": true,
   "toc_window_display": false
  }
 },
 "nbformat": 4,
 "nbformat_minor": 2
}
